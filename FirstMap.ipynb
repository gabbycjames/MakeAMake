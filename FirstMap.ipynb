{
 "cells": [
  {
   "cell_type": "markdown",
   "id": "628560c5-5305-46d2-88fb-28004453f8f7",
   "metadata": {},
   "source": [
    "# Testing Felt's API"
   ]
  },
  {
   "cell_type": "code",
   "execution_count": 1,
   "id": "372946b8-fbfa-4499-aa9e-86caffd77f12",
   "metadata": {},
   "outputs": [],
   "source": [
    "import os"
   ]
  },
  {
   "cell_type": "code",
   "execution_count": 5,
   "id": "9168a72e-26a1-4368-a8ab-cd5451bcdaf6",
   "metadata": {},
   "outputs": [],
   "source": [
    "import requests"
   ]
  },
  {
   "cell_type": "code",
   "execution_count": 6,
   "id": "26386539-5d9b-4732-beff-c83585e62575",
   "metadata": {},
   "outputs": [],
   "source": [
    "api_token = 'felt_pat_ZtU9iMl/v7T4L+KETkKeeF/vfbFFP/sGBbtB7aj8Hmg'"
   ]
  },
  {
   "cell_type": "code",
   "execution_count": 7,
   "id": "2aa5dee9-0602-4a91-99d6-bd35310f693e",
   "metadata": {},
   "outputs": [
    {
     "name": "stdout",
     "output_type": "stream",
     "text": [
      "{'id': 'yU0x8ZZkTByXBhPWLP3DxC', 'links': {'self': 'https://felt.com/api/v2/maps/yU0x8ZZkTByXBhPWLP3DxC'}, 'type': 'map', 'title': 'First map', 'url': 'https://felt.com/map/First-map-yU0x8ZZkTByXBhPWLP3DxC', 'created_at': '2024-06-15T19:11:13', 'elements': {'type': 'FeatureCollection', 'features': []}, 'layers': [], 'project_id': 'v0OFzazKRGCX5s2hw9CvciC', 'layer_groups': [], 'thumbnail_url': None, 'visited_at': None, 'public_access': 'view_only', 'element_groups': []}\n"
     ]
    }
   ],
   "source": [
    "r = requests.post(\n",
    "    'http://felt.com/api/v2/maps',\n",
    "    json={\"title\": \"First map\"},\n",
    "    headers={\"Authorization\": f\"Bearer {api_token}\"}\n",
    ")\n",
    "assert r.ok\n",
    "map_id = r.json()[\"id\"]\n",
    "\n",
    "print(r.json())"
   ]
  },
  {
   "cell_type": "code",
   "execution_count": null,
   "id": "b7f9fee5-4f6f-4d8e-9a38-f15f51abf0f7",
   "metadata": {},
   "outputs": [],
   "source": []
  }
 ],
 "metadata": {
  "kernelspec": {
   "display_name": "Python 3 (ipykernel)",
   "language": "python",
   "name": "python3"
  },
  "language_info": {
   "codemirror_mode": {
    "name": "ipython",
    "version": 3
   },
   "file_extension": ".py",
   "mimetype": "text/x-python",
   "name": "python",
   "nbconvert_exporter": "python",
   "pygments_lexer": "ipython3",
   "version": "3.11.5"
  }
 },
 "nbformat": 4,
 "nbformat_minor": 5
}
